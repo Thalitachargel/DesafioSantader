{
 "cells": [
  {
   "cell_type": "markdown",
   "metadata": {},
   "source": [
    "\n",
    "# Santader Coder - Data science\n",
    "\n",
    "#### *Thalita Chargel*\n",
    "\n",
    "## desafio: \"Quantas pastas de dente são vendidas no Brasil todos os meses?\"\n",
    "\n",
    "    1. Aviso\n",
    "    2. Estimativa da população Brasileira\n",
    "    3. Estimativa de quantos Brasileiros usam creme dental\n",
    "    4. Estimativa de quanto tempo dura um tubo de creme dental\n",
    "    5. Outros fatores\n",
    "    6. Conclusão\n",
    "\n",
    "\n",
    "\n",
    "------\n",
    "#### **Aviso:**\n",
    "Para fins de apresentação e do tempo, tomarei algumas liberdades de ignorar certos fatores:\n",
    "Todos os dados tem diiferenças temporais muito grandes. Enquanto alguns estudos são deste ano de 2021, outros são de 2015 e até mesmo de 2011. \n",
    "A questão geografica também é outro problema. Enquanto algumas estimativas são nacionais, outras são regionais. \n",
    "Neste caso, por falta de outro referêncial, serão ignorados contextos temporáis, geograficos e economicos, por mais que eles sejam extremamente importantes.   "
   ]
  },
  {
   "cell_type": "markdown",
   "metadata": {},
   "source": [
    "\n"
   ]
  },
  {
   "cell_type": "code",
   "execution_count": 1,
   "metadata": {},
   "outputs": [],
   "source": [
    "#População Brasileira aproximada\n",
    "#fonte : https://www.ibge.gov.br/apps/populacao/projecao/index.html em 21/07/2021\n",
    "pop = 213000000"
   ]
  },
  {
   "cell_type": "markdown",
   "metadata": {},
   "source": [
    "Infelizmente os dados do IBGE sobre a higiene bucal do Brasileiro são de _2015_ ; Mas como são os unicos dados de fontes oficiais, vão ser eles que usarei.\n",
    "segundo a fonte, 90% dos brasileiros usam creme dental, logo poderemos estimar quantos brasileiros __Usam__ creme dental\n",
    "fonte : [Ibge: quase metade não usa escova, pasta e fio dental](https://www.terra.com.br/vida-e-estilo/saude/saude-bucal/atualidades/ibge-quase-a-metade-nao-usa-escova-pasta-e-fio-dental,a372e13acfbc7d67b7cfa4ddcfb728fe0yzpRCRD.html) em 21/07/2021\n"
   ]
  },
  {
   "cell_type": "code",
   "execution_count": 2,
   "metadata": {},
   "outputs": [],
   "source": [
    "#porcentagem de brasileiros que saum creem dental\n",
    "usam_creme_dental = 0.9"
   ]
  },
  {
   "cell_type": "code",
   "execution_count": 11,
   "metadata": {},
   "outputs": [
    {
     "name": "stdout",
     "output_type": "stream",
     "text": [
      "A Estimativa da população que usa creme dental é de 90% da população brasileria, com um total aproximado de 191 milhões de pessoas\n"
     ]
    }
   ],
   "source": [
    "pop_usa_creme_dental = pop * usam_creme_dental\n",
    "print(f'Com base nos dados do IBGE, a astimativa da população que usa creme dental é de {int(usam_creme_dental*100)}% da população brasileria, com um total aproximado de {int(pop_usa_creme_dental/1000000)} milhões de pessoas')"
   ]
  },
  {
   "cell_type": "markdown",
   "metadata": {},
   "source": [
    "Com base neste [artigo científico](https://www.scielo.br/j/csp/a/b5wxN8JjNrKMVV9pr4v9GFh/?lang=pt) publicado em 2011, foi citado q um tubo de creme dental dura menos de 1 mês em 61% dos lares entrevistados e mais de um mês em 38% dos lares.\n",
    "Claro, neste caso temos de ignorar que estes são dados regionais e vamos assumir que eles sejam representativos do Brasil. \n",
    "Sendo assim, assumiremos que em pelo menos 61% dos lares brasileiros o consumo mensal seja de 2 tubos de pasta, enquanto em 38% seja de 1 tubo.\n",
    "\n",
    "Aqui encontramos outro problema: Lares, unidades familiares são compostas de mais um individuo. Então usarei [este referencial em 21/07/2021](https://sidra.ibge.gov.br/tabela/579#resultado) para estimar a média de pessoas por lar no Brasil. No estudo original não era especicado quantas pessoas por domícilio, então emprestei do IGBE este dado.  \n",
    "\n",
    "\n",
    "\n",
    "\n"
   ]
  },
  {
   "cell_type": "code",
   "execution_count": 17,
   "metadata": {},
   "outputs": [
    {
     "name": "stdout",
     "output_type": "stream",
     "text": [
      "Com base nos dados do IBGE, aproximadamente 54 milhões de lares usam creme dental no Brasil\n"
     ]
    }
   ],
   "source": [
    "# Pessoa por domicilio\n",
    "domicilio = 3.55\n",
    "# Aqui assumirei que TODOS do domicilio usam creme dental, logo, vou calcular a quantidade de unidades \n",
    "# domiciliares que usam creme de dental sobre o numero de pessoas que usam creme dental.\n",
    "dom_usa_creme = pop_usa_creme_dental / domicilio\n",
    "print(f'Com base nos dados do IBGE, aproximadamente {int(dom_usa_creme/1000000)} milhões de lares usam creme dental no Brasil')"
   ]
  },
  {
   "cell_type": "markdown",
   "metadata": {},
   "source": [
    "## Agora os dados começam a ficar interessantes:\n"
   ]
  },
  {
   "cell_type": "code",
   "execution_count": 18,
   "metadata": {},
   "outputs": [
    {
     "name": "stdout",
     "output_type": "stream",
     "text": [
      "cerca de 32 milhões de lares consomem mais de um tubo de creme dental por mês, enquanto 20 milhões de lares consomem apenas um tubo de creme dental por mês.\n"
     ]
    }
   ],
   "source": [
    "# usa mais de um tubo:]\n",
    "milhao = 1000000\n",
    "doistubos = dom_usa_creme *0.61\n",
    "umtubo =  dom_usa_creme*0.38\n",
    "print(f'cerca de {int(doistubos/milhao)} milhões de lares consomem mais de um tubo de creme dental por mês, enquanto {int(umtubo/milhao)} milhões de lares consomem apenas um tubo de creme dental por mês.')"
   ]
  },
  {
   "cell_type": "markdown",
   "metadata": {},
   "source": [
    "## LOGO:\n",
    "Se os lares que consomem mais de um tubo por mês compram 2 tubos e os que consomem menos de um tubo, compram apenas um tubo por mês teremos:\n"
   ]
  },
  {
   "cell_type": "code",
   "execution_count": 20,
   "metadata": {},
   "outputs": [
    {
     "name": "stdout",
     "output_type": "stream",
     "text": [
      "No Brasil é vendindo mensalmente aproximadamente 86 milhões de unidades de creme dental.\n"
     ]
    }
   ],
   "source": [
    "Total_vendido_no_brasil = (doistubos * 2) + umtubo\n",
    "print(f'No Brasil é vendindo mensalmente aproximadamente {int(Total_vendido_no_brasil/milhao)} milhões de unidades de creme dental.')"
   ]
  },
  {
   "cell_type": "code",
   "execution_count": null,
   "metadata": {},
   "outputs": [],
   "source": []
  }
 ],
 "metadata": {
  "kernelspec": {
   "display_name": "Python 3",
   "language": "python",
   "name": "python3"
  },
  "language_info": {
   "codemirror_mode": {
    "name": "ipython",
    "version": 3
   },
   "file_extension": ".py",
   "mimetype": "text/x-python",
   "name": "python",
   "nbconvert_exporter": "python",
   "pygments_lexer": "ipython3",
   "version": "3.8.3"
  }
 },
 "nbformat": 4,
 "nbformat_minor": 4
}
